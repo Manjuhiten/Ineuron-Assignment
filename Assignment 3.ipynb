{
 "cells": [
  {
   "cell_type": "markdown",
   "metadata": {},
   "source": [
    "1.1 Write a Python Program to implement your own myreduce() function which works exactly likePython's built-in function reduce()"
   ]
  },
  {
   "cell_type": "code",
   "execution_count": 9,
   "metadata": {},
   "outputs": [
    {
     "name": "stdout",
     "output_type": "stream",
     "text": [
      "[2, 6, 8]\n",
      "[2, 6, 8]\n",
      "[2, 6, 8]\n"
     ]
    }
   ],
   "source": [
    "def myFunction(lst):\n",
    "    retlst  = []\n",
    "    for i in lst:\n",
    "        if i%2 == 0:\n",
    "            retlst.append(i)\n",
    "    return retlst\n",
    "\n",
    "# used lambda function\n",
    "func1 = lambda a: [i for i in a if i%2==0]  \n",
    "\n",
    "def myreduce(func,list):\n",
    "    lst = func(list)\n",
    "    print(lst)\n",
    "\n",
    "    #  Using decorators \n",
    "def myreduce_two(func, lst):\n",
    "    def demo():\n",
    "        func(lst)\n",
    "    return demo\n",
    "\n",
    "def func(lst):\n",
    "    mylst = []\n",
    "    for i in lst:\n",
    "        if i%2 == 0:\n",
    "            mylst.append(i)\n",
    "    \n",
    "    print(mylst)\n",
    "    \n",
    "if __name__ =='__main__':\n",
    "    # First way \n",
    "    myreduce(myFunction,[2,5,6,7,8])\n",
    "    myreduce(func1,[2,5,6,7,8])\n",
    "    # second way\n",
    "    result = myreduce_two(func,[2,5,6,7,8]) \n",
    "    result()"
   ]
  },
  {
   "cell_type": "markdown",
   "metadata": {},
   "source": [
    "1.2 Write a Python program to implement your own myfilter() function which works exactly likePython's built-in function filter()"
   ]
  },
  {
   "cell_type": "code",
   "execution_count": 10,
   "metadata": {},
   "outputs": [
    {
     "name": "stdout",
     "output_type": "stream",
     "text": [
      "['a', 'e', 'i', 'o']\n"
     ]
    }
   ],
   "source": [
    "def func(sequence):\n",
    "    letters = ['a', 'e', 'i', 'o', 'u']\n",
    "    mylst = []\n",
    "    for i in sequence:\n",
    "        if i in letters:\n",
    "            mylst.append(i)\n",
    "    return mylst\n",
    "            \n",
    "\n",
    "def myFilter(func, sequence):\n",
    "    lst = func(sequence)\n",
    "    return lst\n",
    "\n",
    "sequence =['a','b','e','s','i','o']\n",
    "lst = myFilter(func,sequence)\n",
    "print(lst)"
   ]
  },
  {
   "cell_type": "markdown",
   "metadata": {},
   "source": [
    "2.Implement List comprehensions to produce the following lists.\n",
    "Write List comprehensions to produce the following Lists\n",
    " ['x', 'xx', 'xxx', 'xxxx', 'y', 'yy', 'yyy', 'yyyy', 'z', 'zz', 'zzz', 'zzzz'] ,  ['x', 'y', 'z', 'xx', 'yy', 'zz', 'xx', 'yy', 'zz', 'xxxx', 'yyyy', 'zzzz'] ,[[2], [3], [4], [3], [4], [5], [4], [5], [6]] [[2, 3, 4, 5], [3, 4, 5, 6], [4, 5, 6, 7], [5, 6, 7, 8]] [(1, 1), (2, 1), (3, 1), (1, 2), (2, 2), (3, 2), (1, 3), (2, 3), (3, 3)]"
   ]
  },
  {
   "cell_type": "code",
   "execution_count": 11,
   "metadata": {},
   "outputs": [
    {
     "name": "stdout",
     "output_type": "stream",
     "text": [
      "['x', 'xx', 'xxx', 'xxxx', 'y', 'yy', 'yyy', 'yyyy', 'z', 'zz', 'zzz', 'zzzz']\n",
      "['x', 'y', 'z', 'xx', 'yy', 'zz', 'xxx', 'yyy', 'zzz', 'xxxx', 'yyyy', 'zzzz']\n",
      "[[2], [3], [4], [3], [4], [5], [4], [5], [6]]\n",
      "[[2, 3, 4, 5], [3, 4, 5, 6], [4, 5, 6, 7], [5, 6, 7, 8]]\n",
      "[(1, 1), (2, 1), (3, 1), (1, 2), (2, 2), (3, 2), (1, 3), (2, 3), (3, 3)]\n"
     ]
    }
   ],
   "source": [
    "mystr1 = 'xyz'\n",
    "mylst1 = [i*j for i in mystr1 for j in range(1,5)]\n",
    "print(mylst1)\n",
    "j = 0\n",
    "mylst2 = [j*i for i in range(1,5)for  j in mystr1 ]\n",
    "print(mylst2)\n",
    "\n",
    "numberlst = [2,3,4,]\n",
    "print([ [i+j] for i in numberlst for j in range(0,3)])\n",
    "numberlst1 = [2,3,4,5]\n",
    "print([ [i+j for j in numberlst1] for i in range(0,4)])\n",
    "\n",
    "print([ (j,i) for i in range(1,4) for j in range(1,4)])"
   ]
  },
  {
   "cell_type": "code",
   "execution_count": null,
   "metadata": {},
   "outputs": [],
   "source": []
  }
 ],
 "metadata": {
  "kernelspec": {
   "display_name": "Python 3",
   "language": "python",
   "name": "python3"
  },
  "language_info": {
   "codemirror_mode": {
    "name": "ipython",
    "version": 3
   },
   "file_extension": ".py",
   "mimetype": "text/x-python",
   "name": "python",
   "nbconvert_exporter": "python",
   "pygments_lexer": "ipython3",
   "version": "3.7.1"
  }
 },
 "nbformat": 4,
 "nbformat_minor": 4
}
